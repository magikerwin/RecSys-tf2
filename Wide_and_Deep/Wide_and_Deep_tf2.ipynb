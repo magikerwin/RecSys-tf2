{
 "cells": [
  {
   "cell_type": "markdown",
   "metadata": {},
   "source": [
    "### Reference\n",
    "* https://arxiv.org/abs/1606.07792\n",
    "* https://grouplens.org/datasets/movielens/1m/\n",
    "* https://keras.io/examples/structured_data/wide_deep_cross_networks/\n",
    "* https://github.com/floraxhuang/Movie-Recommendation-System/blob/master/Deep%20and%20Wide%20Model.ipynb"
   ]
  },
  {
   "cell_type": "code",
   "execution_count": 8,
   "metadata": {},
   "outputs": [],
   "source": [
    "import numpy as np\n",
    "import pandas as pd\n",
    "from collections import defaultdict"
   ]
  },
  {
   "cell_type": "markdown",
   "metadata": {},
   "source": [
    "### [Option] download MovieLens 1M dataset"
   ]
  },
  {
   "cell_type": "code",
   "execution_count": null,
   "metadata": {
    "jupyter": {
     "source_hidden": true
    }
   },
   "outputs": [],
   "source": [
    "import os\n",
    "import wget\n",
    "import zipfile\n",
    "\n",
    "dirPath = '../dataset'\n",
    "zipFilePath = os.path.join(dirPath, 'ml-1m.zip')\n",
    "remoteRrl = 'https://files.grouplens.org/datasets/movielens/ml-1m.zip'\n",
    "\n",
    "if not os.path.exists(dirPath):\n",
    "    os.makedirs(dirPath)\n",
    "    \n",
    "# download\n",
    "wget.download(remoteRrl, zipFilePath)\n",
    "\n",
    "# unzip files\n",
    "with zipfile.ZipFile(zipFilePath, 'r') as zipRef:\n",
    "    zipRef.extractall(dirPath)"
   ]
  },
  {
   "cell_type": "markdown",
   "metadata": {},
   "source": [
    "## load dataset"
   ]
  },
  {
   "cell_type": "code",
   "execution_count": 2,
   "metadata": {},
   "outputs": [],
   "source": [
    "df_ratings = pd.read_csv('../dataset/ml-1m/ratings.dat', sep='::', engine='python', names=['UserID', 'MovieID', 'Rating', 'Timestamp'], header=None)\n",
    "df_movies = pd.read_csv('../dataset/ml-1m/movies.dat', sep='::', engine='python', names=['MovieID', 'Title', 'Genres'], header=None)\n",
    "df_users = pd.read_csv('../dataset/ml-1m/users.dat', sep='::', engine='python', names=['UserID', 'Gender', 'Age', 'Occupation', 'ZipCode'], header=None)\n",
    "\n",
    "numOfUsers = df_ratings.UserID.nunique()\n",
    "numOfItems = df_ratings.MovieID.nunique()"
   ]
  },
  {
   "cell_type": "code",
   "execution_count": 3,
   "metadata": {},
   "outputs": [],
   "source": [
    "# preprocessing\n",
    "df_movies['Genres'] = df_movies.apply(lambda row : row['Genres'].split(\"|\")[0], axis=1)\n",
    "df_movies['MovieYear'] = df_movies.apply(lambda row : int(row['Title'].split(\"(\")[-1][:-1]),axis=1)\n",
    "\n",
    "age_bins = [0, 18, 25, 35, 45, 50, 56]\n",
    "age_labels = [i for i in range(len(age_bins) - 1)]\n",
    "df_users['Age'] = pd.cut(df_users['Age'], age_bins, labels=age_labels)\n",
    "df_users['Gender'].replace({'F':0,'M':1}, inplace=True)\n",
    "\n",
    "df_total = pd.merge(df_ratings, df_movies, how='left', on=\"MovieID\")\n",
    "df_total = pd.merge(df_total, df_users, how='left', on=\"UserID\")\n",
    "df_total.drop(['Title'], axis=1, inplace=True)\n",
    "df_total.drop(['ZipCode'], axis=1, inplace=True)\n",
    "df_total.drop(['Timestamp'], axis=1, inplace=True)"
   ]
  },
  {
   "cell_type": "code",
   "execution_count": 9,
   "metadata": {},
   "outputs": [],
   "source": [
    "idx2name = defaultdict(dict)\n",
    "for col_name in df_total.select_dtypes(include=['object']).columns:\n",
    "    idx2name[col_name] = dict(enumerate(list(df_total[col_name].astype('category').cat.categories)))\n",
    "    df_total[col_name] = df_total[col_name].astype('category').cat.codes # convert categories to numbers"
   ]
  },
  {
   "cell_type": "code",
   "execution_count": 10,
   "metadata": {},
   "outputs": [
    {
     "data": {
      "text/html": [
       "<div>\n",
       "<style scoped>\n",
       "    .dataframe tbody tr th:only-of-type {\n",
       "        vertical-align: middle;\n",
       "    }\n",
       "\n",
       "    .dataframe tbody tr th {\n",
       "        vertical-align: top;\n",
       "    }\n",
       "\n",
       "    .dataframe thead th {\n",
       "        text-align: right;\n",
       "    }\n",
       "</style>\n",
       "<table border=\"1\" class=\"dataframe\">\n",
       "  <thead>\n",
       "    <tr style=\"text-align: right;\">\n",
       "      <th></th>\n",
       "      <th>UserID</th>\n",
       "      <th>MovieID</th>\n",
       "      <th>Rating</th>\n",
       "      <th>Genres</th>\n",
       "      <th>MovieYear</th>\n",
       "      <th>Gender</th>\n",
       "      <th>Age</th>\n",
       "      <th>Occupation</th>\n",
       "    </tr>\n",
       "  </thead>\n",
       "  <tbody>\n",
       "    <tr>\n",
       "      <th>0</th>\n",
       "      <td>1</td>\n",
       "      <td>1193</td>\n",
       "      <td>5</td>\n",
       "      <td>7</td>\n",
       "      <td>1975</td>\n",
       "      <td>0</td>\n",
       "      <td>0</td>\n",
       "      <td>10</td>\n",
       "    </tr>\n",
       "    <tr>\n",
       "      <th>1</th>\n",
       "      <td>1</td>\n",
       "      <td>661</td>\n",
       "      <td>3</td>\n",
       "      <td>2</td>\n",
       "      <td>1996</td>\n",
       "      <td>0</td>\n",
       "      <td>0</td>\n",
       "      <td>10</td>\n",
       "    </tr>\n",
       "    <tr>\n",
       "      <th>2</th>\n",
       "      <td>1</td>\n",
       "      <td>914</td>\n",
       "      <td>3</td>\n",
       "      <td>11</td>\n",
       "      <td>1964</td>\n",
       "      <td>0</td>\n",
       "      <td>0</td>\n",
       "      <td>10</td>\n",
       "    </tr>\n",
       "    <tr>\n",
       "      <th>3</th>\n",
       "      <td>1</td>\n",
       "      <td>3408</td>\n",
       "      <td>4</td>\n",
       "      <td>7</td>\n",
       "      <td>2000</td>\n",
       "      <td>0</td>\n",
       "      <td>0</td>\n",
       "      <td>10</td>\n",
       "    </tr>\n",
       "    <tr>\n",
       "      <th>4</th>\n",
       "      <td>1</td>\n",
       "      <td>2355</td>\n",
       "      <td>5</td>\n",
       "      <td>2</td>\n",
       "      <td>1998</td>\n",
       "      <td>0</td>\n",
       "      <td>0</td>\n",
       "      <td>10</td>\n",
       "    </tr>\n",
       "  </tbody>\n",
       "</table>\n",
       "</div>"
      ],
      "text/plain": [
       "   UserID  MovieID  Rating  Genres  MovieYear  Gender Age  Occupation\n",
       "0       1     1193       5       7       1975       0   0          10\n",
       "1       1      661       3       2       1996       0   0          10\n",
       "2       1      914       3      11       1964       0   0          10\n",
       "3       1     3408       4       7       2000       0   0          10\n",
       "4       1     2355       5       2       1998       0   0          10"
      ]
     },
     "execution_count": 10,
     "metadata": {},
     "output_type": "execute_result"
    }
   ],
   "source": [
    "df_total.head()"
   ]
  },
  {
   "cell_type": "code",
   "execution_count": null,
   "metadata": {},
   "outputs": [],
   "source": []
  },
  {
   "cell_type": "code",
   "execution_count": null,
   "metadata": {},
   "outputs": [],
   "source": []
  },
  {
   "cell_type": "code",
   "execution_count": null,
   "metadata": {},
   "outputs": [],
   "source": [
    "wide_cols = ['UserID', 'MovieID', 'MovieYear', 'Gender', 'Age', 'Occupation']\n",
    "embeddings_cols = {'UserID': 100, 'MovieID': 100, 'Genres': 4}\n",
    "continuous_cols = ['MovieYear', 'Gender', 'Age', 'Occupation']\n",
    "deep_cols = list(embeddings_cols.keys()) + continuous_cols\n",
    "# crosses_cols = ()\n",
    "target = 'Rating'"
   ]
  },
  {
   "cell_type": "code",
   "execution_count": null,
   "metadata": {},
   "outputs": [],
   "source": [
    "Y = np.array(df_total['Rating'])"
   ]
  },
  {
   "cell_type": "code",
   "execution_count": null,
   "metadata": {},
   "outputs": [],
   "source": [
    "all_cols = list(set(wide_cols + deep_cols))\n",
    "df_tmp = df_total.copy()[all_cols]"
   ]
  },
  {
   "cell_type": "code",
   "execution_count": null,
   "metadata": {},
   "outputs": [],
   "source": [
    "idx2name_generes"
   ]
  },
  {
   "cell_type": "code",
   "execution_count": null,
   "metadata": {},
   "outputs": [],
   "source": []
  }
 ],
 "metadata": {
  "kernelspec": {
   "display_name": "tf2",
   "language": "python",
   "name": "tf2"
  },
  "language_info": {
   "codemirror_mode": {
    "name": "ipython",
    "version": 3
   },
   "file_extension": ".py",
   "mimetype": "text/x-python",
   "name": "python",
   "nbconvert_exporter": "python",
   "pygments_lexer": "ipython3",
   "version": "3.8.3"
  }
 },
 "nbformat": 4,
 "nbformat_minor": 4
}
